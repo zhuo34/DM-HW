{
 "cells": [
  {
   "cell_type": "markdown",
   "metadata": {},
   "source": [
    "# Text Classification\n",
    "*Complete and hand in this completed worksheet (including its outputs and any supporting code outside of the worksheet) with your assignment submission. Please check the pdf file for more details.*\n",
    "\n",
    "In this exercise you will:\n",
    "    \n",
    "- implement a of spam classifier with **Naive Bayes method** for real world email messages\n",
    "- learn the **training and testing phase** for Naive Bayes classifier  \n",
    "- get an idea of the **precision-recall** tradeoff"
   ]
  },
  {
   "cell_type": "code",
   "execution_count": 1,
   "metadata": {},
   "outputs": [],
   "source": [
    "# some basic imports\n",
    "import numpy as np\n",
    "import matplotlib.pyplot as plt\n",
    "import scipy.sparse\n",
    "%matplotlib inline\n",
    "\n",
    "%load_ext autoreload\n",
    "%autoreload 2"
   ]
  },
  {
   "cell_type": "code",
   "execution_count": 2,
   "metadata": {},
   "outputs": [],
   "source": [
    "# ham_train contains the occurrences of each word in ham emails. 1-by-N vector\n",
    "ham_train = np.loadtxt('ham_train.csv', delimiter=',')\n",
    "# spam_train contains the occurrences of each word in spam emails. 1-by-N vector\n",
    "spam_train = np.loadtxt('spam_train.csv', delimiter=',')\n",
    "# N is the size of vocabulary.\n",
    "N = ham_train.shape[0]\n",
    "# There 9034 ham emails and 3372 spam emails in the training samples\n",
    "num_ham_train = 9034\n",
    "num_spam_train = 3372\n",
    "# Do smoothing\n",
    "x = np.vstack([ham_train, spam_train]) + 1\n",
    "\n",
    "# ham_test contains the occurences of each word in each ham test email. P-by-N vector, with P is number of ham test emails.\n",
    "i,j,ham_test = np.loadtxt('ham_test.txt').T\n",
    "i = i.astype(np.int)\n",
    "j = j.astype(np.int)\n",
    "ham_test_tight = scipy.sparse.coo_matrix((ham_test, (i - 1, j - 1)))\n",
    "ham_test = scipy.sparse.csr_matrix((ham_test_tight.shape[0], ham_train.shape[0]))\n",
    "ham_test[:, 0:ham_test_tight.shape[1]] = ham_test_tight\n",
    "# spam_test contains the occurences of each word in each spam test email. Q-by-N vector, with Q is number of spam test emails.\n",
    "i,j,spam_test = np.loadtxt('spam_test.txt').T\n",
    "i = i.astype(np.int)\n",
    "j = j.astype(np.int)\n",
    "spam_test_tight = scipy.sparse.csr_matrix((spam_test, (i - 1, j - 1)))\n",
    "spam_test = scipy.sparse.csr_matrix((spam_test_tight.shape[0], spam_train.shape[0]))\n",
    "spam_test[:, 0:spam_test_tight.shape[1]] = spam_test_tight\n"
   ]
  },
  {
   "cell_type": "markdown",
   "metadata": {},
   "source": [
    "## Now let's implement a ham/spam email classifier. Please refer to the PDF file for details"
   ]
  },
  {
   "cell_type": "code",
   "execution_count": 14,
   "metadata": {},
   "outputs": [
    {
     "output_type": "stream",
     "name": "stdout",
     "text": "ooking\t9453\n518.3682269968041\nsex\t56930\n614.4894876319731\ncomputron\t13613\n652.2514114529324\nmeds\t37568\n672.8488244461829\nphp\t65398\n768.9700850813518\nvoip\t9494\n837.6281283921868\ncialis\t45153\n847.9268348888121\npills\t38176\n1101.9615951389017\nviagra\t75526\n1249.5763882571969\nnbsp\t30033\n1325.1002358991152\n(3011,)\n(1124,)\naccuracy\n9006 3011 2.991032879442046\n1093 1124 0.9724199288256228\n10099 4135 2.442321644498186\n"
    }
   ],
   "source": [
    "from likelihood import likelihood\n",
    "# TODO\n",
    "# Implement a ham/spam email classifier, and calculate the accuracy of your classifier\n",
    "\n",
    "# Hint: you can directly do matrix multiply between scipy.sparse.coo_matrix and numpy.array.\n",
    "# Specifically, you can use sparse_matrix * np_array to do this. Note that when you use \"*\" operator\n",
    "# between numpy array, this is typically an elementwise multiply.\n",
    "\n",
    "# begin answer\n",
    "l = likelihood(x)\n",
    "# a\n",
    "ratio = l[1] / l[0]\n",
    "max10_idx = np.argsort(ratio)[-10:]\n",
    "\n",
    "import linecache\n",
    "for i in max10_idx:\n",
    "    s = linecache.getline('all_word_map.txt', i+1).strip()\n",
    "    print(s)\n",
    "    print(ratio[i])\n",
    "\n",
    "\n",
    "class SpamClassifier:\n",
    "    def __init__(self):\n",
    "        self.class_num = 2\n",
    "        self.trained = False\n",
    "\n",
    "    def train(self, x, sample_nums):\n",
    "        self.likelihood = likelihood(x)\n",
    "        self.prior = np.array(sample_nums) / np.sum(sample_nums)\n",
    "        self.log_likelihood = np.log(self.likelihood)\n",
    "        self.log_prior = np.log(self.prior)\n",
    "        self.trained = True\n",
    "\n",
    "    def __call__(self, x):\n",
    "        if self.trained:\n",
    "            log_posterior = x * self.log_likelihood.T + self.log_prior[np.newaxis, :]\n",
    "            prediction = np.argmax(log_posterior, axis=1)\n",
    "            return prediction\n",
    "        else:\n",
    "            print('Please train first!')\n",
    "\n",
    "clf = SpamClassifier()\n",
    "clf.train(x, [num_ham_train, num_spam_train])\n",
    "ham_pred = clf(ham_test)\n",
    "spam_pred = clf(spam_test)\n",
    "\n",
    "ham_acc_num = ham_test.shape[0] - np.sum(ham_pred)\n",
    "spam_acc_num = np.sum(spam_pred)\n",
    "total_acc_num = ham_acc_num + spam_acc_num\n",
    "\n",
    "ham_acc = ham_acc_num / ham_test.shape[0]\n",
    "spam_acc = spam_acc_num / spam_test.shape[0]\n",
    "total_acc = total_acc_num / (ham_test.shape[0] + spam_test.shape[0])\n",
    "\n",
    "print('accuracy')\n",
    "print(ham_acc_num, ham_test.shape[0], ham_acc)\n",
    "print(spam_acc_num, spam_test.shape[0], spam_acc)\n",
    "print(total_acc_num, ham_test.shape[0] + spam_test.shape[0], total_acc)\n",
    "\n",
    "# end answer"
   ]
  },
  {
   "cell_type": "code",
   "execution_count": null,
   "metadata": {},
   "outputs": [],
   "source": []
  }
 ],
 "metadata": {
  "kernelspec": {
   "display_name": "Python 3.7.3 64-bit ('3.7.3': pyenv)",
   "language": "python",
   "name": "python37364bit373pyenv6fa4a0323559421093b07f674774a1a8"
  },
  "language_info": {
   "codemirror_mode": {
    "name": "ipython",
    "version": 3
   },
   "file_extension": ".py",
   "mimetype": "text/x-python",
   "name": "python",
   "nbconvert_exporter": "python",
   "pygments_lexer": "ipython3",
   "version": "3.7.3-final"
  }
 },
 "nbformat": 4,
 "nbformat_minor": 2
}