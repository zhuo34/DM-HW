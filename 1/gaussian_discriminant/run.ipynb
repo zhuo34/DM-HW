{
 "cells": [
  {
   "cell_type": "markdown",
   "metadata": {},
   "source": [
    "# Gaussian Discriminant Analysis and MLE\n",
    "*Complete and hand in this completed worksheet (including its outputs and any supporting code outside of the worksheet) with your assignment submission. Please check the pdf file for more details.*\n",
    "\n",
    "In this exercise you will:\n",
    "    \n",
    "- implement the calculation of **gaussian posterior probability** of GDA\n",
    "- find appropriate tuples of parameters for variout kinds of **decision boundary**"
   ]
  },
  {
   "cell_type": "code",
   "execution_count": null,
   "metadata": {},
   "outputs": [],
   "source": [
    "# some basic imports\n",
    "import numpy as np\n",
    "%matplotlib notebook\n",
    "import matplotlib\n",
    "import matplotlib.pyplot as plt\n",
    "import math\n",
    "from plot_ex1 import plot_ex1, figure\n",
    "\n",
    "%load_ext autoreload\n",
    "%autoreload 2"
   ]
  },
  {
   "cell_type": "markdown",
   "metadata": {},
   "source": [
    "### Decision boundaries are plotted in the figure variable. You may need to refer to it after every plot"
   ]
  },
  {
   "cell_type": "code",
   "execution_count": null,
   "metadata": {},
   "outputs": [],
   "source": [
    "# mu: 2x1 matrix, e.g. np.array([[0,0]]).T\n",
    "# Sigma: 2x2 matrix e.g. nnp.array([[1, 0], [0, 1]]).T\n",
    "# phi: a number e.g 0.5\n",
    "\n",
    "# change the value for specific decision boundary\n",
    "\n",
    "mu0 = 0\n",
    "Sigma0 = 0\n",
    "mu1 = 0\n",
    "Sigma1 = 0\n",
    "phi = 0\n",
    "\n",
    "# begin answer\n",
    "# end answer\n",
    "\n",
    "plot_ex1(mu0, Sigma0, mu1, Sigma1, phi, 'Line', 1)\n",
    "figure"
   ]
  },
  {
   "cell_type": "code",
   "execution_count": null,
   "metadata": {},
   "outputs": [],
   "source": [
    "mu0 = 0\n",
    "Sigma0 = 0\n",
    "mu1 = 0\n",
    "Sigma1 = 0\n",
    "phi = 0\n",
    "\n",
    "# begin answer\n",
    "# end answer\n",
    "\n",
    "plot_ex1(mu0, Sigma0, mu1, Sigma1, phi, 'Line (one side)', 2)\n",
    "figure"
   ]
  },
  {
   "cell_type": "code",
   "execution_count": null,
   "metadata": {},
   "outputs": [],
   "source": [
    "mu0 = 0\n",
    "Sigma0 = 0\n",
    "mu1 = 0\n",
    "Sigma1 = 0\n",
    "phi = 0\n",
    "\n",
    "# begin answer\n",
    "# end answer\n",
    "\n",
    "plot_ex1(mu0, Sigma0, mu1, Sigma1, phi, 'Parabalic', 3)\n",
    "figure"
   ]
  },
  {
   "cell_type": "code",
   "execution_count": null,
   "metadata": {},
   "outputs": [],
   "source": [
    "mu0 = 0\n",
    "Sigma0 = 0\n",
    "mu1 = 0\n",
    "Sigma1 = 0\n",
    "phi = 0\n",
    "\n",
    "# begin answer\n",
    "# end answer\n",
    "\n",
    "plot_ex1(mu0, Sigma0, mu1, Sigma1, phi, 'Hyperbola', 4)\n",
    "figure"
   ]
  },
  {
   "cell_type": "code",
   "execution_count": null,
   "metadata": {},
   "outputs": [],
   "source": [
    "xmu0 = 0\n",
    "Sigma0 = 0\n",
    "mu1 = 0\n",
    "Sigma1 = 0\n",
    "phi = 0\n",
    "\n",
    "# begin answer\n",
    "# end answer\n",
    "\n",
    "plot_ex1(mu0, Sigma0, mu1, Sigma1, phi, 'Two parallel lines.', 5)\n",
    "figure"
   ]
  },
  {
   "cell_type": "code",
   "execution_count": null,
   "metadata": {},
   "outputs": [],
   "source": [
    "mu0 = 0\n",
    "Sigma0 = 0\n",
    "mu1 = 0\n",
    "Sigma1 = 0\n",
    "phi = 0\n",
    "\n",
    "# begin answer\n",
    "# end answer\n",
    "\n",
    "plot_ex1(mu0, Sigma0, mu1, Sigma1, phi, 'Circle', 6)\n",
    "figure"
   ]
  },
  {
   "cell_type": "code",
   "execution_count": null,
   "metadata": {},
   "outputs": [],
   "source": [
    "mu0 = 0\n",
    "Sigma0 = 0\n",
    "mu1 = 0\n",
    "Sigma1 = 0\n",
    "phi = 0\n",
    "\n",
    "# begin answer\n",
    "# end answer\n",
    "\n",
    "plot_ex1(mu0, Sigma0, mu1, Sigma1, phi, 'Ellipsoid', 7)\n",
    "figure"
   ]
  },
  {
   "cell_type": "code",
   "execution_count": null,
   "metadata": {},
   "outputs": [],
   "source": [
    "mu0 = 0\n",
    "Sigma0 = 0\n",
    "mu1 = 0\n",
    "Sigma1 = 0\n",
    "phi = 0\n",
    "\n",
    "\n",
    "# begin answer\n",
    "# end answer\n",
    "\n",
    "\n",
    "plot_ex1(mu0, Sigma0, mu1, Sigma1, phi, 'No boundary', 8)\n",
    "figure"
   ]
  },
  {
   "cell_type": "code",
   "execution_count": null,
   "metadata": {},
   "outputs": [],
   "source": [
    "figure.savefig(\"hw1_gaussian_discriminant.png\")"
   ]
  }
 ],
 "metadata": {
  "kernelspec": {
   "display_name": "Python 3",
   "language": "python",
   "name": "python3"
  },
  "language_info": {
   "codemirror_mode": {
    "name": "ipython",
    "version": 3
   },
   "file_extension": ".py",
   "mimetype": "text/x-python",
   "name": "python",
   "nbconvert_exporter": "python",
   "pygments_lexer": "ipython3",
   "version": "3.6.4"
  }
 },
 "nbformat": 4,
 "nbformat_minor": 2
}
