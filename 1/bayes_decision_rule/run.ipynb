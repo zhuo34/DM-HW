{
 "cells": [
  {
   "cell_type": "markdown",
   "metadata": {},
   "source": [
    "# Bayes Decision Rule\n",
    "*Complete and hand in this completed worksheet (including its outputs and any supporting code outside of the worksheet) with your assignment submission. Please check the pdf file for more details.*\n",
    "\n",
    "In this exercise you will:\n",
    "    \n",
    "- implement the calculation of **likelihood** of each features given particular class \n",
    "- implement the calculation of **posterior** of each class given particular feature\n",
    "- implement the calculation of **minimal total risk** of bayes decision rule"
   ]
  },
  {
   "cell_type": "code",
   "execution_count": 2,
   "metadata": {},
   "outputs": [],
   "source": [
    "# some basic imports\n",
    "import scipy.io as sio\n",
    "import numpy as np\n",
    "import matplotlib.pyplot as plt\n",
    "\n",
    "%matplotlib inline\n",
    "\n",
    "%load_ext autoreload\n",
    "%autoreload 2"
   ]
  },
  {
   "cell_type": "code",
   "execution_count": 9,
   "metadata": {
    "scrolled": true
   },
   "outputs": [
    {
     "output_type": "stream",
     "name": "stdout",
     "text": "(1, 400) (1, 100) (1, 800) (1, 200)\n(1, 1500)\n[[-1  1  5  3  5  7  1  1  5  3  4  1  1  5  8  2  7  8  7  8  5 -1  1  3\n  -1  2  7  1  4  4  9  3  5  0  1  4  5  2  4  1  5  1  4  5  8  0  4 -2\n   4  6  0  3  7  8  4  8  3  1  3 -2  1  2  8  4 10  5  5  3  1  4  2 -1\n   5  3  4  2  6  2  5  6  3  1  4  7 -3  4  4  5  2  5  2  4  7  3  0  3\n   5  3  8  2  2  8  4  5  8  2  3  6  1  4  0  5 10  3  2  8  1  2  3  5\n   0  1  4  3 -2 -2 -2  4  5  6  0 -3  5  3  3  2  3  9  3  5 -3 -1  1  4\n   5 11 -2 -2  3  1  0  6  2  5  4 -1  6  3  2  3  5  7  4 -2  6  2  9  5\n   5  2  1  1  0  1  7  2  3  8  2  3  6  4  5  2  3  8 10  3  1  3  2  1\n  -2 -1  3  2  7 -2  1  5]]\n"
    }
   ],
   "source": [
    "data = sio.loadmat('data.mat')\n",
    "x1_train, x1_test, x2_train, x2_test = data['x1_train'], data['x1_test'], data['x2_train'], data['x2_test']\n",
    "print(x1_train.shape, x1_test.shape, x2_train.shape, x2_test.shape)\n",
    "all_x = np.concatenate([x1_train, x1_test, x2_train, x2_test], 1)\n",
    "print(all_x.shape)\n",
    "data_range = [np.min(all_x), np.max(all_x)]\n",
    "print(x2_test[:1])"
   ]
  },
  {
   "cell_type": "code",
   "execution_count": 10,
   "metadata": {},
   "outputs": [
    {
     "output_type": "stream",
     "name": "stdout",
     "text": "(2, 19) (2, 19)\n"
    }
   ],
   "source": [
    "from get_x_distribution import get_x_distribution\n",
    "\n",
    "train_x = get_x_distribution(x1_train, x2_train, data_range)\n",
    "test_x = get_x_distribution(x1_test, x2_test, data_range)\n",
    "print(train_x.shape, test_x.shape)"
   ]
  },
  {
   "cell_type": "markdown",
   "metadata": {},
   "source": [
    "## Part 1 likelihood\n",
    "Your code for this section will be written inside **bayes_decision_rule/likehood.py**. "
   ]
  },
  {
   "cell_type": "code",
   "execution_count": 6,
   "metadata": {},
   "outputs": [
    {
     "output_type": "stream",
     "name": "stdout",
     "text": "[[0.      0.      0.      0.      0.      0.      0.      0.      0.\n  0.0025  0.02    0.155   0.3325  0.32    0.1525  0.015   0.0025  0.\n  0.     ]\n [0.00125 0.00375 0.00375 0.01125 0.01625 0.05625 0.07125 0.08875 0.1225\n  0.1225  0.12375 0.13    0.09625 0.0675  0.0375  0.02125 0.0175  0.005\n  0.00375]]\n"
    },
    {
     "output_type": "display_data",
     "data": {
      "text/plain": "<Figure size 432x288 with 1 Axes>",
      "image/svg+xml": "<?xml version=\"1.0\" encoding=\"utf-8\" standalone=\"no\"?>\n<!DOCTYPE svg PUBLIC \"-//W3C//DTD SVG 1.1//EN\"\n  \"http://www.w3.org/Graphics/SVG/1.1/DTD/svg11.dtd\">\n<!-- Created with matplotlib (https://matplotlib.org/) -->\n<svg height=\"265.995469pt\" version=\"1.1\" viewBox=\"0 0 388.965938 265.995469\" width=\"388.965938pt\" xmlns=\"http://www.w3.org/2000/svg\" xmlns:xlink=\"http://www.w3.org/1999/xlink\">\n <defs>\n  <style type=\"text/css\">\n*{stroke-linecap:butt;stroke-linejoin:round;}\n  </style>\n </defs>\n <g id=\"figure_1\">\n  <g id=\"patch_1\">\n   <path d=\"M 0 265.995469 \nL 388.965938 265.995469 \nL 388.965938 0 \nL 0 0 \nz\n\" style=\"fill:none;\"/>\n  </g>\n  <g id=\"axes_1\">\n   <g id=\"patch_2\">\n    <path d=\"M 44.203125 228.439219 \nL 379.003125 228.439219 \nL 379.003125 10.999219 \nL 44.203125 10.999219 \nz\n\" style=\"fill:#ffffff;\"/>\n   </g>\n   <g id=\"patch_3\">\n    <path clip-path=\"url(#pf4512febf1)\" d=\"M 58.013625 228.439219 \nL 63.872625 228.439219 \nL 63.872625 228.439219 \nL 58.013625 228.439219 \nz\n\" style=\"fill:#1f77b4;\"/>\n   </g>\n   <g id=\"patch_4\">\n    <path clip-path=\"url(#pf4512febf1)\" d=\"M 74.753625 228.439219 \nL 80.612625 228.439219 \nL 80.612625 228.439219 \nL 74.753625 228.439219 \nz\n\" style=\"fill:#1f77b4;\"/>\n   </g>\n   <g id=\"patch_5\">\n    <path clip-path=\"url(#pf4512febf1)\" d=\"M 91.493625 228.439219 \nL 97.352625 228.439219 \nL 97.352625 228.439219 \nL 91.493625 228.439219 \nz\n\" style=\"fill:#1f77b4;\"/>\n   </g>\n   <g id=\"patch_6\">\n    <path clip-path=\"url(#pf4512febf1)\" d=\"M 108.233625 228.439219 \nL 114.092625 228.439219 \nL 114.092625 228.439219 \nL 108.233625 228.439219 \nz\n\" style=\"fill:#1f77b4;\"/>\n   </g>\n   <g id=\"patch_7\">\n    <path clip-path=\"url(#pf4512febf1)\" d=\"M 124.973625 228.439219 \nL 130.832625 228.439219 \nL 130.832625 228.439219 \nL 124.973625 228.439219 \nz\n\" style=\"fill:#1f77b4;\"/>\n   </g>\n   <g id=\"patch_8\">\n    <path clip-path=\"url(#pf4512febf1)\" d=\"M 141.713625 228.439219 \nL 147.572625 228.439219 \nL 147.572625 228.439219 \nL 141.713625 228.439219 \nz\n\" style=\"fill:#1f77b4;\"/>\n   </g>\n   <g id=\"patch_9\">\n    <path clip-path=\"url(#pf4512febf1)\" d=\"M 158.453625 228.439219 \nL 164.312625 228.439219 \nL 164.312625 228.439219 \nL 158.453625 228.439219 \nz\n\" style=\"fill:#1f77b4;\"/>\n   </g>\n   <g id=\"patch_10\">\n    <path clip-path=\"url(#pf4512febf1)\" d=\"M 175.193625 228.439219 \nL 181.052625 228.439219 \nL 181.052625 228.439219 \nL 175.193625 228.439219 \nz\n\" style=\"fill:#1f77b4;\"/>\n   </g>\n   <g id=\"patch_11\">\n    <path clip-path=\"url(#pf4512febf1)\" d=\"M 191.933625 228.439219 \nL 197.792625 228.439219 \nL 197.792625 228.439219 \nL 191.933625 228.439219 \nz\n\" style=\"fill:#1f77b4;\"/>\n   </g>\n   <g id=\"patch_12\">\n    <path clip-path=\"url(#pf4512febf1)\" d=\"M 208.673625 228.439219 \nL 214.532625 228.439219 \nL 214.532625 227.352019 \nL 208.673625 227.352019 \nz\n\" style=\"fill:#1f77b4;\"/>\n   </g>\n   <g id=\"patch_13\">\n    <path clip-path=\"url(#pf4512febf1)\" d=\"M 225.413625 228.439219 \nL 231.272625 228.439219 \nL 231.272625 219.741619 \nL 225.413625 219.741619 \nz\n\" style=\"fill:#1f77b4;\"/>\n   </g>\n   <g id=\"patch_14\">\n    <path clip-path=\"url(#pf4512febf1)\" d=\"M 242.153625 228.439219 \nL 248.012625 228.439219 \nL 248.012625 161.032819 \nL 242.153625 161.032819 \nz\n\" style=\"fill:#1f77b4;\"/>\n   </g>\n   <g id=\"patch_15\">\n    <path clip-path=\"url(#pf4512febf1)\" d=\"M 258.893625 228.439219 \nL 264.752625 228.439219 \nL 264.752625 83.841619 \nL 258.893625 83.841619 \nz\n\" style=\"fill:#1f77b4;\"/>\n   </g>\n   <g id=\"patch_16\">\n    <path clip-path=\"url(#pf4512febf1)\" d=\"M 275.633625 228.439219 \nL 281.492625 228.439219 \nL 281.492625 89.277619 \nL 275.633625 89.277619 \nz\n\" style=\"fill:#1f77b4;\"/>\n   </g>\n   <g id=\"patch_17\">\n    <path clip-path=\"url(#pf4512febf1)\" d=\"M 292.373625 228.439219 \nL 298.232625 228.439219 \nL 298.232625 162.120019 \nL 292.373625 162.120019 \nz\n\" style=\"fill:#1f77b4;\"/>\n   </g>\n   <g id=\"patch_18\">\n    <path clip-path=\"url(#pf4512febf1)\" d=\"M 309.113625 228.439219 \nL 314.972625 228.439219 \nL 314.972625 221.916019 \nL 309.113625 221.916019 \nz\n\" style=\"fill:#1f77b4;\"/>\n   </g>\n   <g id=\"patch_19\">\n    <path clip-path=\"url(#pf4512febf1)\" d=\"M 325.853625 228.439219 \nL 331.712625 228.439219 \nL 331.712625 227.352019 \nL 325.853625 227.352019 \nz\n\" style=\"fill:#1f77b4;\"/>\n   </g>\n   <g id=\"patch_20\">\n    <path clip-path=\"url(#pf4512febf1)\" d=\"M 342.593625 228.439219 \nL 348.452625 228.439219 \nL 348.452625 228.439219 \nL 342.593625 228.439219 \nz\n\" style=\"fill:#1f77b4;\"/>\n   </g>\n   <g id=\"patch_21\">\n    <path clip-path=\"url(#pf4512febf1)\" d=\"M 359.333625 228.439219 \nL 365.192625 228.439219 \nL 365.192625 228.439219 \nL 359.333625 228.439219 \nz\n\" style=\"fill:#1f77b4;\"/>\n   </g>\n   <g id=\"patch_22\">\n    <path clip-path=\"url(#pf4512febf1)\" d=\"M 63.872625 228.439219 \nL 69.731625 228.439219 \nL 69.731625 227.895619 \nL 63.872625 227.895619 \nz\n\" style=\"fill:#ff7f0e;\"/>\n   </g>\n   <g id=\"patch_23\">\n    <path clip-path=\"url(#pf4512febf1)\" d=\"M 80.612625 228.439219 \nL 86.471625 228.439219 \nL 86.471625 226.808419 \nL 80.612625 226.808419 \nz\n\" style=\"fill:#ff7f0e;\"/>\n   </g>\n   <g id=\"patch_24\">\n    <path clip-path=\"url(#pf4512febf1)\" d=\"M 97.352625 228.439219 \nL 103.211625 228.439219 \nL 103.211625 226.808419 \nL 97.352625 226.808419 \nz\n\" style=\"fill:#ff7f0e;\"/>\n   </g>\n   <g id=\"patch_25\">\n    <path clip-path=\"url(#pf4512febf1)\" d=\"M 114.092625 228.439219 \nL 119.951625 228.439219 \nL 119.951625 223.546819 \nL 114.092625 223.546819 \nz\n\" style=\"fill:#ff7f0e;\"/>\n   </g>\n   <g id=\"patch_26\">\n    <path clip-path=\"url(#pf4512febf1)\" d=\"M 130.832625 228.439219 \nL 136.691625 228.439219 \nL 136.691625 221.372419 \nL 130.832625 221.372419 \nz\n\" style=\"fill:#ff7f0e;\"/>\n   </g>\n   <g id=\"patch_27\">\n    <path clip-path=\"url(#pf4512febf1)\" d=\"M 147.572625 228.439219 \nL 153.431625 228.439219 \nL 153.431625 203.977219 \nL 147.572625 203.977219 \nz\n\" style=\"fill:#ff7f0e;\"/>\n   </g>\n   <g id=\"patch_28\">\n    <path clip-path=\"url(#pf4512febf1)\" d=\"M 164.312625 228.439219 \nL 170.171625 228.439219 \nL 170.171625 197.454019 \nL 164.312625 197.454019 \nz\n\" style=\"fill:#ff7f0e;\"/>\n   </g>\n   <g id=\"patch_29\">\n    <path clip-path=\"url(#pf4512febf1)\" d=\"M 181.052625 228.439219 \nL 186.911625 228.439219 \nL 186.911625 189.843619 \nL 181.052625 189.843619 \nz\n\" style=\"fill:#ff7f0e;\"/>\n   </g>\n   <g id=\"patch_30\">\n    <path clip-path=\"url(#pf4512febf1)\" d=\"M 197.792625 228.439219 \nL 203.651625 228.439219 \nL 203.651625 175.166419 \nL 197.792625 175.166419 \nz\n\" style=\"fill:#ff7f0e;\"/>\n   </g>\n   <g id=\"patch_31\">\n    <path clip-path=\"url(#pf4512febf1)\" d=\"M 214.532625 228.439219 \nL 220.391625 228.439219 \nL 220.391625 175.166419 \nL 214.532625 175.166419 \nz\n\" style=\"fill:#ff7f0e;\"/>\n   </g>\n   <g id=\"patch_32\">\n    <path clip-path=\"url(#pf4512febf1)\" d=\"M 231.272625 228.439219 \nL 237.131625 228.439219 \nL 237.131625 174.622819 \nL 231.272625 174.622819 \nz\n\" style=\"fill:#ff7f0e;\"/>\n   </g>\n   <g id=\"patch_33\">\n    <path clip-path=\"url(#pf4512febf1)\" d=\"M 248.012625 228.439219 \nL 253.871625 228.439219 \nL 253.871625 171.904819 \nL 248.012625 171.904819 \nz\n\" style=\"fill:#ff7f0e;\"/>\n   </g>\n   <g id=\"patch_34\">\n    <path clip-path=\"url(#pf4512febf1)\" d=\"M 264.752625 228.439219 \nL 270.611625 228.439219 \nL 270.611625 186.582019 \nL 264.752625 186.582019 \nz\n\" style=\"fill:#ff7f0e;\"/>\n   </g>\n   <g id=\"patch_35\">\n    <path clip-path=\"url(#pf4512febf1)\" d=\"M 281.492625 228.439219 \nL 287.351625 228.439219 \nL 287.351625 199.084819 \nL 281.492625 199.084819 \nz\n\" style=\"fill:#ff7f0e;\"/>\n   </g>\n   <g id=\"patch_36\">\n    <path clip-path=\"url(#pf4512febf1)\" d=\"M 298.232625 228.439219 \nL 304.091625 228.439219 \nL 304.091625 212.131219 \nL 298.232625 212.131219 \nz\n\" style=\"fill:#ff7f0e;\"/>\n   </g>\n   <g id=\"patch_37\">\n    <path clip-path=\"url(#pf4512febf1)\" d=\"M 314.972625 228.439219 \nL 320.831625 228.439219 \nL 320.831625 219.198019 \nL 314.972625 219.198019 \nz\n\" style=\"fill:#ff7f0e;\"/>\n   </g>\n   <g id=\"patch_38\">\n    <path clip-path=\"url(#pf4512febf1)\" d=\"M 331.712625 228.439219 \nL 337.571625 228.439219 \nL 337.571625 220.828819 \nL 331.712625 220.828819 \nz\n\" style=\"fill:#ff7f0e;\"/>\n   </g>\n   <g id=\"patch_39\">\n    <path clip-path=\"url(#pf4512febf1)\" d=\"M 348.452625 228.439219 \nL 354.311625 228.439219 \nL 354.311625 226.264819 \nL 348.452625 226.264819 \nz\n\" style=\"fill:#ff7f0e;\"/>\n   </g>\n   <g id=\"patch_40\">\n    <path clip-path=\"url(#pf4512febf1)\" d=\"M 365.192625 228.439219 \nL 371.051625 228.439219 \nL 371.051625 226.808419 \nL 365.192625 226.808419 \nz\n\" style=\"fill:#ff7f0e;\"/>\n   </g>\n   <g id=\"matplotlib.axis_1\">\n    <g id=\"xtick_1\">\n     <g id=\"line2d_1\">\n      <defs>\n       <path d=\"M 0 0 \nL 0 3.5 \n\" id=\"md52d8cad70\" style=\"stroke:#000000;stroke-width:0.8;\"/>\n      </defs>\n      <g>\n       <use style=\"stroke:#000000;stroke-width:0.8;\" x=\"77.683125\" xlink:href=\"#md52d8cad70\" y=\"228.439219\"/>\n      </g>\n     </g>\n     <g id=\"text_1\">\n      <!-- −5.0 -->\n      <defs>\n       <path d=\"M 10.59375 35.5 \nL 73.1875 35.5 \nL 73.1875 27.203125 \nL 10.59375 27.203125 \nz\n\" id=\"DejaVuSans-8722\"/>\n       <path d=\"M 10.796875 72.90625 \nL 49.515625 72.90625 \nL 49.515625 64.59375 \nL 19.828125 64.59375 \nL 19.828125 46.734375 \nQ 21.96875 47.46875 24.109375 47.828125 \nQ 26.265625 48.1875 28.421875 48.1875 \nQ 40.625 48.1875 47.75 41.5 \nQ 54.890625 34.8125 54.890625 23.390625 \nQ 54.890625 11.625 47.5625 5.09375 \nQ 40.234375 -1.421875 26.90625 -1.421875 \nQ 22.3125 -1.421875 17.546875 -0.640625 \nQ 12.796875 0.140625 7.71875 1.703125 \nL 7.71875 11.625 \nQ 12.109375 9.234375 16.796875 8.0625 \nQ 21.484375 6.890625 26.703125 6.890625 \nQ 35.15625 6.890625 40.078125 11.328125 \nQ 45.015625 15.765625 45.015625 23.390625 \nQ 45.015625 31 40.078125 35.4375 \nQ 35.15625 39.890625 26.703125 39.890625 \nQ 22.75 39.890625 18.8125 39.015625 \nQ 14.890625 38.140625 10.796875 36.28125 \nz\n\" id=\"DejaVuSans-53\"/>\n       <path d=\"M 10.6875 12.40625 \nL 21 12.40625 \nL 21 0 \nL 10.6875 0 \nz\n\" id=\"DejaVuSans-46\"/>\n       <path d=\"M 31.78125 66.40625 \nQ 24.171875 66.40625 20.328125 58.90625 \nQ 16.5 51.421875 16.5 36.375 \nQ 16.5 21.390625 20.328125 13.890625 \nQ 24.171875 6.390625 31.78125 6.390625 \nQ 39.453125 6.390625 43.28125 13.890625 \nQ 47.125 21.390625 47.125 36.375 \nQ 47.125 51.421875 43.28125 58.90625 \nQ 39.453125 66.40625 31.78125 66.40625 \nz\nM 31.78125 74.21875 \nQ 44.046875 74.21875 50.515625 64.515625 \nQ 56.984375 54.828125 56.984375 36.375 \nQ 56.984375 17.96875 50.515625 8.265625 \nQ 44.046875 -1.421875 31.78125 -1.421875 \nQ 19.53125 -1.421875 13.0625 8.265625 \nQ 6.59375 17.96875 6.59375 36.375 \nQ 6.59375 54.828125 13.0625 64.515625 \nQ 19.53125 74.21875 31.78125 74.21875 \nz\n\" id=\"DejaVuSans-48\"/>\n      </defs>\n      <g transform=\"translate(65.541719 243.037656)scale(0.1 -0.1)\">\n       <use xlink:href=\"#DejaVuSans-8722\"/>\n       <use x=\"83.789062\" xlink:href=\"#DejaVuSans-53\"/>\n       <use x=\"147.412109\" xlink:href=\"#DejaVuSans-46\"/>\n       <use x=\"179.199219\" xlink:href=\"#DejaVuSans-48\"/>\n      </g>\n     </g>\n    </g>\n    <g id=\"xtick_2\">\n     <g id=\"line2d_2\">\n      <g>\n       <use style=\"stroke:#000000;stroke-width:0.8;\" x=\"119.533125\" xlink:href=\"#md52d8cad70\" y=\"228.439219\"/>\n      </g>\n     </g>\n     <g id=\"text_2\">\n      <!-- −2.5 -->\n      <defs>\n       <path d=\"M 19.1875 8.296875 \nL 53.609375 8.296875 \nL 53.609375 0 \nL 7.328125 0 \nL 7.328125 8.296875 \nQ 12.9375 14.109375 22.625 23.890625 \nQ 32.328125 33.6875 34.8125 36.53125 \nQ 39.546875 41.84375 41.421875 45.53125 \nQ 43.3125 49.21875 43.3125 52.78125 \nQ 43.3125 58.59375 39.234375 62.25 \nQ 35.15625 65.921875 28.609375 65.921875 \nQ 23.96875 65.921875 18.8125 64.3125 \nQ 13.671875 62.703125 7.8125 59.421875 \nL 7.8125 69.390625 \nQ 13.765625 71.78125 18.9375 73 \nQ 24.125 74.21875 28.421875 74.21875 \nQ 39.75 74.21875 46.484375 68.546875 \nQ 53.21875 62.890625 53.21875 53.421875 \nQ 53.21875 48.921875 51.53125 44.890625 \nQ 49.859375 40.875 45.40625 35.40625 \nQ 44.1875 33.984375 37.640625 27.21875 \nQ 31.109375 20.453125 19.1875 8.296875 \nz\n\" id=\"DejaVuSans-50\"/>\n      </defs>\n      <g transform=\"translate(107.391719 243.037656)scale(0.1 -0.1)\">\n       <use xlink:href=\"#DejaVuSans-8722\"/>\n       <use x=\"83.789062\" xlink:href=\"#DejaVuSans-50\"/>\n       <use x=\"147.412109\" xlink:href=\"#DejaVuSans-46\"/>\n       <use x=\"179.199219\" xlink:href=\"#DejaVuSans-53\"/>\n      </g>\n     </g>\n    </g>\n    <g id=\"xtick_3\">\n     <g id=\"line2d_3\">\n      <g>\n       <use style=\"stroke:#000000;stroke-width:0.8;\" x=\"161.383125\" xlink:href=\"#md52d8cad70\" y=\"228.439219\"/>\n      </g>\n     </g>\n     <g id=\"text_3\">\n      <!-- 0.0 -->\n      <g transform=\"translate(153.431563 243.037656)scale(0.1 -0.1)\">\n       <use xlink:href=\"#DejaVuSans-48\"/>\n       <use x=\"63.623047\" xlink:href=\"#DejaVuSans-46\"/>\n       <use x=\"95.410156\" xlink:href=\"#DejaVuSans-48\"/>\n      </g>\n     </g>\n    </g>\n    <g id=\"xtick_4\">\n     <g id=\"line2d_4\">\n      <g>\n       <use style=\"stroke:#000000;stroke-width:0.8;\" x=\"203.233125\" xlink:href=\"#md52d8cad70\" y=\"228.439219\"/>\n      </g>\n     </g>\n     <g id=\"text_4\">\n      <!-- 2.5 -->\n      <g transform=\"translate(195.281563 243.037656)scale(0.1 -0.1)\">\n       <use xlink:href=\"#DejaVuSans-50\"/>\n       <use x=\"63.623047\" xlink:href=\"#DejaVuSans-46\"/>\n       <use x=\"95.410156\" xlink:href=\"#DejaVuSans-53\"/>\n      </g>\n     </g>\n    </g>\n    <g id=\"xtick_5\">\n     <g id=\"line2d_5\">\n      <g>\n       <use style=\"stroke:#000000;stroke-width:0.8;\" x=\"245.083125\" xlink:href=\"#md52d8cad70\" y=\"228.439219\"/>\n      </g>\n     </g>\n     <g id=\"text_5\">\n      <!-- 5.0 -->\n      <g transform=\"translate(237.131563 243.037656)scale(0.1 -0.1)\">\n       <use xlink:href=\"#DejaVuSans-53\"/>\n       <use x=\"63.623047\" xlink:href=\"#DejaVuSans-46\"/>\n       <use x=\"95.410156\" xlink:href=\"#DejaVuSans-48\"/>\n      </g>\n     </g>\n    </g>\n    <g id=\"xtick_6\">\n     <g id=\"line2d_6\">\n      <g>\n       <use style=\"stroke:#000000;stroke-width:0.8;\" x=\"286.933125\" xlink:href=\"#md52d8cad70\" y=\"228.439219\"/>\n      </g>\n     </g>\n     <g id=\"text_6\">\n      <!-- 7.5 -->\n      <defs>\n       <path d=\"M 8.203125 72.90625 \nL 55.078125 72.90625 \nL 55.078125 68.703125 \nL 28.609375 0 \nL 18.3125 0 \nL 43.21875 64.59375 \nL 8.203125 64.59375 \nz\n\" id=\"DejaVuSans-55\"/>\n      </defs>\n      <g transform=\"translate(278.981562 243.037656)scale(0.1 -0.1)\">\n       <use xlink:href=\"#DejaVuSans-55\"/>\n       <use x=\"63.623047\" xlink:href=\"#DejaVuSans-46\"/>\n       <use x=\"95.410156\" xlink:href=\"#DejaVuSans-53\"/>\n      </g>\n     </g>\n    </g>\n    <g id=\"xtick_7\">\n     <g id=\"line2d_7\">\n      <g>\n       <use style=\"stroke:#000000;stroke-width:0.8;\" x=\"328.783125\" xlink:href=\"#md52d8cad70\" y=\"228.439219\"/>\n      </g>\n     </g>\n     <g id=\"text_7\">\n      <!-- 10.0 -->\n      <defs>\n       <path d=\"M 12.40625 8.296875 \nL 28.515625 8.296875 \nL 28.515625 63.921875 \nL 10.984375 60.40625 \nL 10.984375 69.390625 \nL 28.421875 72.90625 \nL 38.28125 72.90625 \nL 38.28125 8.296875 \nL 54.390625 8.296875 \nL 54.390625 0 \nL 12.40625 0 \nz\n\" id=\"DejaVuSans-49\"/>\n      </defs>\n      <g transform=\"translate(317.650313 243.037656)scale(0.1 -0.1)\">\n       <use xlink:href=\"#DejaVuSans-49\"/>\n       <use x=\"63.623047\" xlink:href=\"#DejaVuSans-48\"/>\n       <use x=\"127.246094\" xlink:href=\"#DejaVuSans-46\"/>\n       <use x=\"159.033203\" xlink:href=\"#DejaVuSans-48\"/>\n      </g>\n     </g>\n    </g>\n    <g id=\"xtick_8\">\n     <g id=\"line2d_8\">\n      <g>\n       <use style=\"stroke:#000000;stroke-width:0.8;\" x=\"370.633125\" xlink:href=\"#md52d8cad70\" y=\"228.439219\"/>\n      </g>\n     </g>\n     <g id=\"text_8\">\n      <!-- 12.5 -->\n      <g transform=\"translate(359.500313 243.037656)scale(0.1 -0.1)\">\n       <use xlink:href=\"#DejaVuSans-49\"/>\n       <use x=\"63.623047\" xlink:href=\"#DejaVuSans-50\"/>\n       <use x=\"127.246094\" xlink:href=\"#DejaVuSans-46\"/>\n       <use x=\"159.033203\" xlink:href=\"#DejaVuSans-53\"/>\n      </g>\n     </g>\n    </g>\n    <g id=\"text_9\">\n     <!-- x -->\n     <defs>\n      <path d=\"M 54.890625 54.6875 \nL 35.109375 28.078125 \nL 55.90625 0 \nL 45.3125 0 \nL 29.390625 21.484375 \nL 13.484375 0 \nL 2.875 0 \nL 24.125 28.609375 \nL 4.6875 54.6875 \nL 15.28125 54.6875 \nL 29.78125 35.203125 \nL 44.28125 54.6875 \nz\n\" id=\"DejaVuSans-120\"/>\n     </defs>\n     <g transform=\"translate(208.64375 256.715781)scale(0.1 -0.1)\">\n      <use xlink:href=\"#DejaVuSans-120\"/>\n     </g>\n    </g>\n   </g>\n   <g id=\"matplotlib.axis_2\">\n    <g id=\"ytick_1\">\n     <g id=\"line2d_9\">\n      <defs>\n       <path d=\"M 0 0 \nL -3.5 0 \n\" id=\"m8cb1051f8b\" style=\"stroke:#000000;stroke-width:0.8;\"/>\n      </defs>\n      <g>\n       <use style=\"stroke:#000000;stroke-width:0.8;\" x=\"44.203125\" xlink:href=\"#m8cb1051f8b\" y=\"228.439219\"/>\n      </g>\n     </g>\n     <g id=\"text_10\">\n      <!-- 0.0 -->\n      <g transform=\"translate(21.3 232.238437)scale(0.1 -0.1)\">\n       <use xlink:href=\"#DejaVuSans-48\"/>\n       <use x=\"63.623047\" xlink:href=\"#DejaVuSans-46\"/>\n       <use x=\"95.410156\" xlink:href=\"#DejaVuSans-48\"/>\n      </g>\n     </g>\n    </g>\n    <g id=\"ytick_2\">\n     <g id=\"line2d_10\">\n      <g>\n       <use style=\"stroke:#000000;stroke-width:0.8;\" x=\"44.203125\" xlink:href=\"#m8cb1051f8b\" y=\"184.951219\"/>\n      </g>\n     </g>\n     <g id=\"text_11\">\n      <!-- 0.1 -->\n      <g transform=\"translate(21.3 188.750437)scale(0.1 -0.1)\">\n       <use xlink:href=\"#DejaVuSans-48\"/>\n       <use x=\"63.623047\" xlink:href=\"#DejaVuSans-46\"/>\n       <use x=\"95.410156\" xlink:href=\"#DejaVuSans-49\"/>\n      </g>\n     </g>\n    </g>\n    <g id=\"ytick_3\">\n     <g id=\"line2d_11\">\n      <g>\n       <use style=\"stroke:#000000;stroke-width:0.8;\" x=\"44.203125\" xlink:href=\"#m8cb1051f8b\" y=\"141.463219\"/>\n      </g>\n     </g>\n     <g id=\"text_12\">\n      <!-- 0.2 -->\n      <g transform=\"translate(21.3 145.262437)scale(0.1 -0.1)\">\n       <use xlink:href=\"#DejaVuSans-48\"/>\n       <use x=\"63.623047\" xlink:href=\"#DejaVuSans-46\"/>\n       <use x=\"95.410156\" xlink:href=\"#DejaVuSans-50\"/>\n      </g>\n     </g>\n    </g>\n    <g id=\"ytick_4\">\n     <g id=\"line2d_12\">\n      <g>\n       <use style=\"stroke:#000000;stroke-width:0.8;\" x=\"44.203125\" xlink:href=\"#m8cb1051f8b\" y=\"97.975219\"/>\n      </g>\n     </g>\n     <g id=\"text_13\">\n      <!-- 0.3 -->\n      <defs>\n       <path d=\"M 40.578125 39.3125 \nQ 47.65625 37.796875 51.625 33 \nQ 55.609375 28.21875 55.609375 21.1875 \nQ 55.609375 10.40625 48.1875 4.484375 \nQ 40.765625 -1.421875 27.09375 -1.421875 \nQ 22.515625 -1.421875 17.65625 -0.515625 \nQ 12.796875 0.390625 7.625 2.203125 \nL 7.625 11.71875 \nQ 11.71875 9.328125 16.59375 8.109375 \nQ 21.484375 6.890625 26.8125 6.890625 \nQ 36.078125 6.890625 40.9375 10.546875 \nQ 45.796875 14.203125 45.796875 21.1875 \nQ 45.796875 27.640625 41.28125 31.265625 \nQ 36.765625 34.90625 28.71875 34.90625 \nL 20.21875 34.90625 \nL 20.21875 43.015625 \nL 29.109375 43.015625 \nQ 36.375 43.015625 40.234375 45.921875 \nQ 44.09375 48.828125 44.09375 54.296875 \nQ 44.09375 59.90625 40.109375 62.90625 \nQ 36.140625 65.921875 28.71875 65.921875 \nQ 24.65625 65.921875 20.015625 65.03125 \nQ 15.375 64.15625 9.8125 62.3125 \nL 9.8125 71.09375 \nQ 15.4375 72.65625 20.34375 73.4375 \nQ 25.25 74.21875 29.59375 74.21875 \nQ 40.828125 74.21875 47.359375 69.109375 \nQ 53.90625 64.015625 53.90625 55.328125 \nQ 53.90625 49.265625 50.4375 45.09375 \nQ 46.96875 40.921875 40.578125 39.3125 \nz\n\" id=\"DejaVuSans-51\"/>\n      </defs>\n      <g transform=\"translate(21.3 101.774437)scale(0.1 -0.1)\">\n       <use xlink:href=\"#DejaVuSans-48\"/>\n       <use x=\"63.623047\" xlink:href=\"#DejaVuSans-46\"/>\n       <use x=\"95.410156\" xlink:href=\"#DejaVuSans-51\"/>\n      </g>\n     </g>\n    </g>\n    <g id=\"ytick_5\">\n     <g id=\"line2d_13\">\n      <g>\n       <use style=\"stroke:#000000;stroke-width:0.8;\" x=\"44.203125\" xlink:href=\"#m8cb1051f8b\" y=\"54.487219\"/>\n      </g>\n     </g>\n     <g id=\"text_14\">\n      <!-- 0.4 -->\n      <defs>\n       <path d=\"M 37.796875 64.3125 \nL 12.890625 25.390625 \nL 37.796875 25.390625 \nz\nM 35.203125 72.90625 \nL 47.609375 72.90625 \nL 47.609375 25.390625 \nL 58.015625 25.390625 \nL 58.015625 17.1875 \nL 47.609375 17.1875 \nL 47.609375 0 \nL 37.796875 0 \nL 37.796875 17.1875 \nL 4.890625 17.1875 \nL 4.890625 26.703125 \nz\n\" id=\"DejaVuSans-52\"/>\n      </defs>\n      <g transform=\"translate(21.3 58.286437)scale(0.1 -0.1)\">\n       <use xlink:href=\"#DejaVuSans-48\"/>\n       <use x=\"63.623047\" xlink:href=\"#DejaVuSans-46\"/>\n       <use x=\"95.410156\" xlink:href=\"#DejaVuSans-52\"/>\n      </g>\n     </g>\n    </g>\n    <g id=\"ytick_6\">\n     <g id=\"line2d_14\">\n      <g>\n       <use style=\"stroke:#000000;stroke-width:0.8;\" x=\"44.203125\" xlink:href=\"#m8cb1051f8b\" y=\"10.999219\"/>\n      </g>\n     </g>\n     <g id=\"text_15\">\n      <!-- 0.5 -->\n      <g transform=\"translate(21.3 14.798437)scale(0.1 -0.1)\">\n       <use xlink:href=\"#DejaVuSans-48\"/>\n       <use x=\"63.623047\" xlink:href=\"#DejaVuSans-46\"/>\n       <use x=\"95.410156\" xlink:href=\"#DejaVuSans-53\"/>\n      </g>\n     </g>\n    </g>\n    <g id=\"text_16\">\n     <!-- $P(x|\\omega)$ -->\n     <defs>\n      <path d=\"M 16.890625 72.90625 \nL 39.703125 72.90625 \nQ 49.65625 72.90625 54.875 68.265625 \nQ 60.109375 63.625 60.109375 54.6875 \nQ 60.109375 42.671875 52.390625 35.984375 \nQ 44.671875 29.296875 30.71875 29.296875 \nL 18.3125 29.296875 \nL 12.59375 0 \nL 2.6875 0 \nz\nM 25.203125 64.796875 \nL 19.921875 37.40625 \nL 32.328125 37.40625 \nQ 40.71875 37.40625 45.203125 41.703125 \nQ 49.703125 46 49.703125 54 \nQ 49.703125 59.125 46.65625 61.953125 \nQ 43.609375 64.796875 38.09375 64.796875 \nz\n\" id=\"DejaVuSans-Oblique-80\"/>\n      <path d=\"M 31 75.875 \nQ 24.46875 64.65625 21.28125 53.65625 \nQ 18.109375 42.671875 18.109375 31.390625 \nQ 18.109375 20.125 21.3125 9.0625 \nQ 24.515625 -2 31 -13.1875 \nL 23.1875 -13.1875 \nQ 15.875 -1.703125 12.234375 9.375 \nQ 8.59375 20.453125 8.59375 31.390625 \nQ 8.59375 42.28125 12.203125 53.3125 \nQ 15.828125 64.359375 23.1875 75.875 \nz\n\" id=\"DejaVuSans-40\"/>\n      <path d=\"M 60.015625 54.6875 \nL 34.90625 27.875 \nL 50.296875 0 \nL 39.984375 0 \nL 28.421875 21.6875 \nL 8.296875 0 \nL -2.59375 0 \nL 24.3125 28.8125 \nL 10.015625 54.6875 \nL 20.3125 54.6875 \nL 30.8125 34.90625 \nL 49.125 54.6875 \nz\n\" id=\"DejaVuSans-Oblique-120\"/>\n      <path d=\"M 21 76.421875 \nL 21 -23.578125 \nL 12.703125 -23.578125 \nL 12.703125 76.421875 \nz\n\" id=\"DejaVuSans-124\"/>\n      <path d=\"M 21.390625 -1.421875 \nQ 1.125 -1.421875 6.78125 27.59375 \nQ 8.984375 39.0625 19.625 54.6875 \nL 29.296875 54.6875 \nQ 19.234375 39.0625 17 27.34375 \nQ 12.796875 6.203125 23.734375 6.203125 \nQ 33.84375 6.203125 38.71875 32.46875 \nL 47.015625 32.46875 \nQ 41.703125 6.0625 51.8125 6.203125 \nQ 62.703125 6.296875 66.796875 27.34375 \nQ 69.046875 39.0625 65.140625 54.6875 \nL 74.8125 54.6875 \nQ 79.296875 39.0625 77.09375 27.59375 \nQ 71.53125 -1.46875 51.21875 -1.421875 \nQ 37.9375 -1.375 39.109375 13.1875 \nQ 34.28125 -1.421875 21.390625 -1.421875 \nz\n\" id=\"DejaVuSans-Oblique-969\"/>\n      <path d=\"M 8.015625 75.875 \nL 15.828125 75.875 \nQ 23.140625 64.359375 26.78125 53.3125 \nQ 30.421875 42.28125 30.421875 31.390625 \nQ 30.421875 20.453125 26.78125 9.375 \nQ 23.140625 -1.703125 15.828125 -13.1875 \nL 8.015625 -13.1875 \nQ 14.5 -2 17.703125 9.0625 \nQ 20.90625 20.125 20.90625 31.390625 \nQ 20.90625 42.671875 17.703125 53.65625 \nQ 14.5 64.65625 8.015625 75.875 \nz\n\" id=\"DejaVuSans-41\"/>\n     </defs>\n     <g transform=\"translate(14.9 135.469219)rotate(-90)scale(0.1 -0.1)\">\n      <use transform=\"translate(0 0.578125)\" xlink:href=\"#DejaVuSans-Oblique-80\"/>\n      <use transform=\"translate(60.302734 0.578125)\" xlink:href=\"#DejaVuSans-40\"/>\n      <use transform=\"translate(99.316406 0.578125)\" xlink:href=\"#DejaVuSans-Oblique-120\"/>\n      <use transform=\"translate(158.496094 0.578125)\" xlink:href=\"#DejaVuSans-124\"/>\n      <use transform=\"translate(192.1875 0.578125)\" xlink:href=\"#DejaVuSans-Oblique-969\"/>\n      <use transform=\"translate(275.927734 0.578125)\" xlink:href=\"#DejaVuSans-41\"/>\n     </g>\n    </g>\n   </g>\n   <g id=\"patch_41\">\n    <path d=\"M 44.203125 228.439219 \nL 44.203125 10.999219 \n\" style=\"fill:none;stroke:#000000;stroke-linecap:square;stroke-linejoin:miter;stroke-width:0.8;\"/>\n   </g>\n   <g id=\"patch_42\">\n    <path d=\"M 379.003125 228.439219 \nL 379.003125 10.999219 \n\" style=\"fill:none;stroke:#000000;stroke-linecap:square;stroke-linejoin:miter;stroke-width:0.8;\"/>\n   </g>\n   <g id=\"patch_43\">\n    <path d=\"M 44.203125 228.439219 \nL 379.003125 228.439219 \n\" style=\"fill:none;stroke:#000000;stroke-linecap:square;stroke-linejoin:miter;stroke-width:0.8;\"/>\n   </g>\n   <g id=\"patch_44\">\n    <path d=\"M 44.203125 10.999219 \nL 379.003125 10.999219 \n\" style=\"fill:none;stroke:#000000;stroke-linecap:square;stroke-linejoin:miter;stroke-width:0.8;\"/>\n   </g>\n   <g id=\"legend_1\">\n    <g id=\"patch_45\">\n     <path d=\"M 326.803125 48.355469 \nL 372.003125 48.355469 \nQ 374.003125 48.355469 374.003125 46.355469 \nL 374.003125 17.999219 \nQ 374.003125 15.999219 372.003125 15.999219 \nL 326.803125 15.999219 \nQ 324.803125 15.999219 324.803125 17.999219 \nL 324.803125 46.355469 \nQ 324.803125 48.355469 326.803125 48.355469 \nz\n\" style=\"fill:#ffffff;opacity:0.8;stroke:#cccccc;stroke-linejoin:miter;\"/>\n    </g>\n    <g id=\"patch_46\">\n     <path d=\"M 328.803125 27.597656 \nL 348.803125 27.597656 \nL 348.803125 20.597656 \nL 328.803125 20.597656 \nz\n\" style=\"fill:#1f77b4;\"/>\n    </g>\n    <g id=\"text_17\">\n     <!-- $\\omega_1$ -->\n     <g transform=\"translate(356.803125 27.597656)scale(0.1 -0.1)\">\n      <use transform=\"translate(0 0.3125)\" xlink:href=\"#DejaVuSans-Oblique-969\"/>\n      <use transform=\"translate(83.740234 -16.09375)scale(0.7)\" xlink:href=\"#DejaVuSans-49\"/>\n     </g>\n    </g>\n    <g id=\"patch_47\">\n     <path d=\"M 328.803125 42.275781 \nL 348.803125 42.275781 \nL 348.803125 35.275781 \nL 328.803125 35.275781 \nz\n\" style=\"fill:#ff7f0e;\"/>\n    </g>\n    <g id=\"text_18\">\n     <!-- $\\omega_2$ -->\n     <g transform=\"translate(356.803125 42.275781)scale(0.1 -0.1)\">\n      <use transform=\"translate(0 0.3125)\" xlink:href=\"#DejaVuSans-Oblique-969\"/>\n      <use transform=\"translate(83.740234 -16.09375)scale(0.7)\" xlink:href=\"#DejaVuSans-50\"/>\n     </g>\n    </g>\n   </g>\n  </g>\n </g>\n <defs>\n  <clipPath id=\"pf4512febf1\">\n   <rect height=\"217.44\" width=\"334.8\" x=\"44.203125\" y=\"10.999219\"/>\n  </clipPath>\n </defs>\n</svg>\n",
      "image/png": "[encoded data removed]"
     },
     "metadata": {
      "needs_background": "light"
     }
    }
   ],
   "source": [
    "from likelihood import likelihood\n",
    "\n",
    "l = likelihood(train_x)\n",
    "print(l)\n",
    "width = 0.35\n",
    "p1 = plt.bar(np.arange(data_range[0], data_range[1] + 1), l.T[:,0], width)\n",
    "p2 = plt.bar(np.arange(data_range[0], data_range[1] + 1) + width, l.T[:,1], width)\n",
    "plt.xlabel('x')\n",
    "plt.ylabel('$P(x|\\omega)$')\n",
    "plt.legend((p1[0], p2[0]), ('$\\omega_1$', '$\\omega_2$'))\n",
    "plt.axis([data_range[0] - 1, data_range[1] + 1, 0, 0.5])\n",
    "plt.show()"
   ]
  },
  {
   "cell_type": "code",
   "execution_count": 11,
   "metadata": {},
   "outputs": [
    {
     "output_type": "stream",
     "name": "stdout",
     "text": "[[0. 0. 0. 0. 0. 0. 0. 0. 0. 0. 0. 1. 1. 1. 1. 0. 0. 0. 0.]\n [1. 1. 1. 1. 1. 1. 1. 1. 1. 1. 1. 0. 0. 0. 0. 1. 1. 1. 1.]]\n"
    }
   ],
   "source": [
    "#TODO\n",
    "#compute the number of all the misclassified x using maximum likelihood decision rule\n",
    "\n",
    "# begin answer\n",
    "mld = np.zeros(train_x.shape)\n",
    "print(np.argmax(l, axis=0))\n",
    "mld[0, l[0] > l[1]] = 1\n",
    "mld[1, l[0] < l[1]] = 1\n",
    "print(mld)\n",
    "\n",
    "# end answer\n"
   ]
  },
  {
   "cell_type": "markdown",
   "metadata": {},
   "source": [
    "## Part 2 posterior\n",
    "Your code for this section will be written inside **bayes_decision_rule/posterior.py**. "
   ]
  },
  {
   "cell_type": "code",
   "execution_count": null,
   "metadata": {},
   "outputs": [],
   "source": [
    "from posterior import posterior\n",
    "\n",
    "p = posterior(train_x)\n",
    "width = 0.35\n",
    "p1 = plt.bar(np.arange(data_range[0], data_range[1] + 1), p.T[:,0], width)\n",
    "p2 = plt.bar(np.arange(data_range[0], data_range[1] + 1) + width, p.T[:,1], width)\n",
    "plt.xlabel('x')\n",
    "plt.ylabel('$P(\\omega|x)$')\n",
    "plt.legend((p1[0], p2[0]), ('$\\omega_1$', '$\\omega_2$'))\n",
    "plt.axis([data_range[0] - 1, data_range[1] + 1, 0, 1.2])\n",
    "plt.show()"
   ]
  },
  {
   "cell_type": "code",
   "execution_count": null,
   "metadata": {},
   "outputs": [],
   "source": [
    "#TODO\n",
    "#compute the number of all the misclassified x using optimal bayes decision rule\n",
    "\n",
    "# begin answer\n",
    "# end answer\n"
   ]
  },
  {
   "cell_type": "markdown",
   "metadata": {},
   "source": [
    "## Part 3 risk\n"
   ]
  },
  {
   "cell_type": "code",
   "execution_count": null,
   "metadata": {},
   "outputs": [],
   "source": [
    "risk = np.array([[0, 1], [2, 0]])\n",
    "#TODO\n",
    "#get the minimal risk using optimal bayes decision rule and risk weights\n",
    "\n",
    "# begin answer\n",
    "# end answer"
   ]
  }
 ],
 "metadata": {
  "kernelspec": {
   "display_name": "Python 3.7.3 64-bit ('3.7.3': pyenv)",
   "language": "python",
   "name": "python37364bit373pyenv6fa4a0323559421093b07f674774a1a8"
  },
  "language_info": {
   "codemirror_mode": {
    "name": "ipython",
    "version": 3
   },
   "file_extension": ".py",
   "mimetype": "text/x-python",
   "name": "python",
   "nbconvert_exporter": "python",
   "pygments_lexer": "ipython3",
   "version": "3.7.3-final"
  }
 },
 "nbformat": 4,
 "nbformat_minor": 2
}